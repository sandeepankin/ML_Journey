{
  "nbformat": 4,
  "nbformat_minor": 0,
  "metadata": {
    "colab": {
      "name": "Pandas.ipynb",
      "provenance": []
    },
    "kernelspec": {
      "name": "python3",
      "display_name": "Python 3"
    },
    "language_info": {
      "name": "python"
    }
  },
  "cells": [
    {
      "cell_type": "markdown",
      "metadata": {
        "id": "CkB-Q5-kh9aD"
      },
      "source": [
        "#**Basics**"
      ]
    },
    {
      "cell_type": "code",
      "metadata": {
        "id": "xnvRW7M1Reh1"
      },
      "source": [
        "import pandas as pd"
      ],
      "execution_count": 29,
      "outputs": []
    },
    {
      "cell_type": "code",
      "metadata": {
        "colab": {
          "base_uri": "https://localhost:8080/"
        },
        "id": "8kx_WYrhS81Z",
        "outputId": "0aa0970f-b510-46a3-e7b4-c9c6274647d4"
      },
      "source": [
        "a = [1,2,3]\n",
        "var = pd.Series(a)\n",
        "print(var)"
      ],
      "execution_count": 30,
      "outputs": [
        {
          "output_type": "stream",
          "name": "stdout",
          "text": [
            "0    1\n",
            "1    2\n",
            "2    3\n",
            "dtype: int64\n"
          ]
        }
      ]
    },
    {
      "cell_type": "code",
      "metadata": {
        "colab": {
          "base_uri": "https://localhost:8080/"
        },
        "id": "-wY3jmvgTDJp",
        "outputId": "5a78648b-d7a6-461e-ce68-8577746fd1c2"
      },
      "source": [
        "var = pd.Series(a,index = ['x','y','z'])\n",
        "print(var)"
      ],
      "execution_count": 31,
      "outputs": [
        {
          "output_type": "stream",
          "name": "stdout",
          "text": [
            "x    1\n",
            "y    2\n",
            "z    3\n",
            "dtype: int64\n"
          ]
        }
      ]
    },
    {
      "cell_type": "code",
      "metadata": {
        "colab": {
          "base_uri": "https://localhost:8080/"
        },
        "id": "K5cKauFLTaMM",
        "outputId": "3ddf2712-b0c2-459d-dd59-fc0d4f6a4325"
      },
      "source": [
        "print(var['x'])"
      ],
      "execution_count": 32,
      "outputs": [
        {
          "output_type": "stream",
          "name": "stdout",
          "text": [
            "1\n"
          ]
        }
      ]
    },
    {
      "cell_type": "code",
      "metadata": {
        "colab": {
          "base_uri": "https://localhost:8080/"
        },
        "id": "2uv0Z-jlThHe",
        "outputId": "c36523f9-d105-4f58-af1e-93c3a3549d34"
      },
      "source": [
        "calories = {'day1':3000,'day2':2400,'day3':2000}\n",
        "TDEE = pd.Series(calories)\n",
        "print(TDEE)"
      ],
      "execution_count": 33,
      "outputs": [
        {
          "output_type": "stream",
          "name": "stdout",
          "text": [
            "day1    3000\n",
            "day2    2400\n",
            "day3    2000\n",
            "dtype: int64\n"
          ]
        }
      ]
    },
    {
      "cell_type": "code",
      "metadata": {
        "colab": {
          "base_uri": "https://localhost:8080/"
        },
        "id": "jSsLSDp5T7lg",
        "outputId": "36ac0794-42ce-4424-fd0b-e679a856241a"
      },
      "source": [
        "data = {'calories':[4200,3000,2000],'days':[1,2,3]}\n",
        "var = pd.DataFrame(data)\n",
        "print(var)"
      ],
      "execution_count": 34,
      "outputs": [
        {
          "output_type": "stream",
          "name": "stdout",
          "text": [
            "   calories  days\n",
            "0      4200     1\n",
            "1      3000     2\n",
            "2      2000     3\n"
          ]
        }
      ]
    },
    {
      "cell_type": "code",
      "metadata": {
        "id": "PLggCxUQUNKZ",
        "colab": {
          "base_uri": "https://localhost:8080/"
        },
        "outputId": "01ba3823-af4d-4273-a22a-0c071660dbce"
      },
      "source": [
        "print(var.loc[0])"
      ],
      "execution_count": 35,
      "outputs": [
        {
          "output_type": "stream",
          "name": "stdout",
          "text": [
            "calories    4200\n",
            "days           1\n",
            "Name: 0, dtype: int64\n"
          ]
        }
      ]
    },
    {
      "cell_type": "code",
      "metadata": {
        "id": "t6a75zt6gsgO"
      },
      "source": [
        "df = pd.read_csv('/content/drive/MyDrive/degrees-that-pay-back.csv')"
      ],
      "execution_count": 36,
      "outputs": []
    },
    {
      "cell_type": "code",
      "metadata": {
        "colab": {
          "base_uri": "https://localhost:8080/",
          "height": 1000
        },
        "id": "DgjgcC2ChINA",
        "outputId": "b034555b-a3a8-4516-f53b-70f73800173f"
      },
      "source": [
        "df"
      ],
      "execution_count": 37,
      "outputs": [
        {
          "output_type": "execute_result",
          "data": {
            "text/html": [
              "<div>\n",
              "<style scoped>\n",
              "    .dataframe tbody tr th:only-of-type {\n",
              "        vertical-align: middle;\n",
              "    }\n",
              "\n",
              "    .dataframe tbody tr th {\n",
              "        vertical-align: top;\n",
              "    }\n",
              "\n",
              "    .dataframe thead th {\n",
              "        text-align: right;\n",
              "    }\n",
              "</style>\n",
              "<table border=\"1\" class=\"dataframe\">\n",
              "  <thead>\n",
              "    <tr style=\"text-align: right;\">\n",
              "      <th></th>\n",
              "      <th>Undergraduate Major</th>\n",
              "      <th>Starting Median Salary</th>\n",
              "      <th>Mid-Career Median Salary</th>\n",
              "      <th>Percent change from Starting to Mid-Career Salary</th>\n",
              "      <th>Mid-Career 10th Percentile Salary</th>\n",
              "      <th>Mid-Career 25th Percentile Salary</th>\n",
              "      <th>Mid-Career 75th Percentile Salary</th>\n",
              "      <th>Mid-Career 90th Percentile Salary</th>\n",
              "    </tr>\n",
              "  </thead>\n",
              "  <tbody>\n",
              "    <tr>\n",
              "      <th>0</th>\n",
              "      <td>Accounting</td>\n",
              "      <td>$46,000.00</td>\n",
              "      <td>$77,100.00</td>\n",
              "      <td>67.6</td>\n",
              "      <td>$42,200.00</td>\n",
              "      <td>$56,100.00</td>\n",
              "      <td>$108,000.00</td>\n",
              "      <td>$152,000.00</td>\n",
              "    </tr>\n",
              "    <tr>\n",
              "      <th>1</th>\n",
              "      <td>Aerospace Engineering</td>\n",
              "      <td>$57,700.00</td>\n",
              "      <td>$101,000.00</td>\n",
              "      <td>75.0</td>\n",
              "      <td>$64,300.00</td>\n",
              "      <td>$82,100.00</td>\n",
              "      <td>$127,000.00</td>\n",
              "      <td>$161,000.00</td>\n",
              "    </tr>\n",
              "    <tr>\n",
              "      <th>2</th>\n",
              "      <td>Agriculture</td>\n",
              "      <td>$42,600.00</td>\n",
              "      <td>$71,900.00</td>\n",
              "      <td>68.8</td>\n",
              "      <td>$36,300.00</td>\n",
              "      <td>$52,100.00</td>\n",
              "      <td>$96,300.00</td>\n",
              "      <td>$150,000.00</td>\n",
              "    </tr>\n",
              "    <tr>\n",
              "      <th>3</th>\n",
              "      <td>Anthropology</td>\n",
              "      <td>$36,800.00</td>\n",
              "      <td>$61,500.00</td>\n",
              "      <td>67.1</td>\n",
              "      <td>$33,800.00</td>\n",
              "      <td>$45,500.00</td>\n",
              "      <td>$89,300.00</td>\n",
              "      <td>$138,000.00</td>\n",
              "    </tr>\n",
              "    <tr>\n",
              "      <th>4</th>\n",
              "      <td>Architecture</td>\n",
              "      <td>$41,600.00</td>\n",
              "      <td>$76,800.00</td>\n",
              "      <td>84.6</td>\n",
              "      <td>$50,600.00</td>\n",
              "      <td>$62,200.00</td>\n",
              "      <td>$97,000.00</td>\n",
              "      <td>$136,000.00</td>\n",
              "    </tr>\n",
              "    <tr>\n",
              "      <th>5</th>\n",
              "      <td>Art History</td>\n",
              "      <td>$35,800.00</td>\n",
              "      <td>$64,900.00</td>\n",
              "      <td>81.3</td>\n",
              "      <td>$28,800.00</td>\n",
              "      <td>$42,200.00</td>\n",
              "      <td>$87,400.00</td>\n",
              "      <td>$125,000.00</td>\n",
              "    </tr>\n",
              "    <tr>\n",
              "      <th>6</th>\n",
              "      <td>Biology</td>\n",
              "      <td>$38,800.00</td>\n",
              "      <td>$64,800.00</td>\n",
              "      <td>67.0</td>\n",
              "      <td>$36,900.00</td>\n",
              "      <td>$47,400.00</td>\n",
              "      <td>$94,500.00</td>\n",
              "      <td>$135,000.00</td>\n",
              "    </tr>\n",
              "    <tr>\n",
              "      <th>7</th>\n",
              "      <td>Business Management</td>\n",
              "      <td>$43,000.00</td>\n",
              "      <td>$72,100.00</td>\n",
              "      <td>67.7</td>\n",
              "      <td>$38,800.00</td>\n",
              "      <td>$51,500.00</td>\n",
              "      <td>$102,000.00</td>\n",
              "      <td>$147,000.00</td>\n",
              "    </tr>\n",
              "    <tr>\n",
              "      <th>8</th>\n",
              "      <td>Chemical Engineering</td>\n",
              "      <td>$63,200.00</td>\n",
              "      <td>$107,000.00</td>\n",
              "      <td>69.3</td>\n",
              "      <td>$71,900.00</td>\n",
              "      <td>$87,300.00</td>\n",
              "      <td>$143,000.00</td>\n",
              "      <td>$194,000.00</td>\n",
              "    </tr>\n",
              "    <tr>\n",
              "      <th>9</th>\n",
              "      <td>Chemistry</td>\n",
              "      <td>$42,600.00</td>\n",
              "      <td>$79,900.00</td>\n",
              "      <td>87.6</td>\n",
              "      <td>$45,300.00</td>\n",
              "      <td>$60,700.00</td>\n",
              "      <td>$108,000.00</td>\n",
              "      <td>$148,000.00</td>\n",
              "    </tr>\n",
              "    <tr>\n",
              "      <th>10</th>\n",
              "      <td>Civil Engineering</td>\n",
              "      <td>$53,900.00</td>\n",
              "      <td>$90,500.00</td>\n",
              "      <td>67.9</td>\n",
              "      <td>$63,400.00</td>\n",
              "      <td>$75,100.00</td>\n",
              "      <td>$115,000.00</td>\n",
              "      <td>$148,000.00</td>\n",
              "    </tr>\n",
              "    <tr>\n",
              "      <th>11</th>\n",
              "      <td>Communications</td>\n",
              "      <td>$38,100.00</td>\n",
              "      <td>$70,000.00</td>\n",
              "      <td>83.7</td>\n",
              "      <td>$37,500.00</td>\n",
              "      <td>$49,700.00</td>\n",
              "      <td>$98,800.00</td>\n",
              "      <td>$143,000.00</td>\n",
              "    </tr>\n",
              "    <tr>\n",
              "      <th>12</th>\n",
              "      <td>Computer Engineering</td>\n",
              "      <td>$61,400.00</td>\n",
              "      <td>$105,000.00</td>\n",
              "      <td>71.0</td>\n",
              "      <td>$66,100.00</td>\n",
              "      <td>$84,100.00</td>\n",
              "      <td>$135,000.00</td>\n",
              "      <td>$162,000.00</td>\n",
              "    </tr>\n",
              "    <tr>\n",
              "      <th>13</th>\n",
              "      <td>Computer Science</td>\n",
              "      <td>$55,900.00</td>\n",
              "      <td>$95,500.00</td>\n",
              "      <td>70.8</td>\n",
              "      <td>$56,000.00</td>\n",
              "      <td>$74,900.00</td>\n",
              "      <td>$122,000.00</td>\n",
              "      <td>$154,000.00</td>\n",
              "    </tr>\n",
              "    <tr>\n",
              "      <th>14</th>\n",
              "      <td>Construction</td>\n",
              "      <td>$53,700.00</td>\n",
              "      <td>$88,900.00</td>\n",
              "      <td>65.5</td>\n",
              "      <td>$56,300.00</td>\n",
              "      <td>$68,100.00</td>\n",
              "      <td>$118,000.00</td>\n",
              "      <td>$171,000.00</td>\n",
              "    </tr>\n",
              "    <tr>\n",
              "      <th>15</th>\n",
              "      <td>Criminal Justice</td>\n",
              "      <td>$35,000.00</td>\n",
              "      <td>$56,300.00</td>\n",
              "      <td>60.9</td>\n",
              "      <td>$32,200.00</td>\n",
              "      <td>$41,600.00</td>\n",
              "      <td>$80,700.00</td>\n",
              "      <td>$107,000.00</td>\n",
              "    </tr>\n",
              "    <tr>\n",
              "      <th>16</th>\n",
              "      <td>Drama</td>\n",
              "      <td>$35,900.00</td>\n",
              "      <td>$56,900.00</td>\n",
              "      <td>58.5</td>\n",
              "      <td>$36,700.00</td>\n",
              "      <td>$41,300.00</td>\n",
              "      <td>$79,100.00</td>\n",
              "      <td>$153,000.00</td>\n",
              "    </tr>\n",
              "    <tr>\n",
              "      <th>17</th>\n",
              "      <td>Economics</td>\n",
              "      <td>$50,100.00</td>\n",
              "      <td>$98,600.00</td>\n",
              "      <td>96.8</td>\n",
              "      <td>$50,600.00</td>\n",
              "      <td>$70,600.00</td>\n",
              "      <td>$145,000.00</td>\n",
              "      <td>$210,000.00</td>\n",
              "    </tr>\n",
              "    <tr>\n",
              "      <th>18</th>\n",
              "      <td>Education</td>\n",
              "      <td>$34,900.00</td>\n",
              "      <td>$52,000.00</td>\n",
              "      <td>49.0</td>\n",
              "      <td>$29,300.00</td>\n",
              "      <td>$37,900.00</td>\n",
              "      <td>$73,400.00</td>\n",
              "      <td>$102,000.00</td>\n",
              "    </tr>\n",
              "    <tr>\n",
              "      <th>19</th>\n",
              "      <td>Electrical Engineering</td>\n",
              "      <td>$60,900.00</td>\n",
              "      <td>$103,000.00</td>\n",
              "      <td>69.1</td>\n",
              "      <td>$69,300.00</td>\n",
              "      <td>$83,800.00</td>\n",
              "      <td>$130,000.00</td>\n",
              "      <td>$168,000.00</td>\n",
              "    </tr>\n",
              "    <tr>\n",
              "      <th>20</th>\n",
              "      <td>English</td>\n",
              "      <td>$38,000.00</td>\n",
              "      <td>$64,700.00</td>\n",
              "      <td>70.3</td>\n",
              "      <td>$33,400.00</td>\n",
              "      <td>$44,800.00</td>\n",
              "      <td>$93,200.00</td>\n",
              "      <td>$133,000.00</td>\n",
              "    </tr>\n",
              "    <tr>\n",
              "      <th>21</th>\n",
              "      <td>Film</td>\n",
              "      <td>$37,900.00</td>\n",
              "      <td>$68,500.00</td>\n",
              "      <td>80.7</td>\n",
              "      <td>$33,900.00</td>\n",
              "      <td>$45,500.00</td>\n",
              "      <td>$100,000.00</td>\n",
              "      <td>$136,000.00</td>\n",
              "    </tr>\n",
              "    <tr>\n",
              "      <th>22</th>\n",
              "      <td>Finance</td>\n",
              "      <td>$47,900.00</td>\n",
              "      <td>$88,300.00</td>\n",
              "      <td>84.3</td>\n",
              "      <td>$47,200.00</td>\n",
              "      <td>$62,100.00</td>\n",
              "      <td>$128,000.00</td>\n",
              "      <td>$195,000.00</td>\n",
              "    </tr>\n",
              "    <tr>\n",
              "      <th>23</th>\n",
              "      <td>Forestry</td>\n",
              "      <td>$39,100.00</td>\n",
              "      <td>$62,600.00</td>\n",
              "      <td>60.1</td>\n",
              "      <td>$41,000.00</td>\n",
              "      <td>$49,300.00</td>\n",
              "      <td>$78,200.00</td>\n",
              "      <td>$111,000.00</td>\n",
              "    </tr>\n",
              "    <tr>\n",
              "      <th>24</th>\n",
              "      <td>Geography</td>\n",
              "      <td>$41,200.00</td>\n",
              "      <td>$65,500.00</td>\n",
              "      <td>59.0</td>\n",
              "      <td>$40,000.00</td>\n",
              "      <td>$50,000.00</td>\n",
              "      <td>$90,800.00</td>\n",
              "      <td>$132,000.00</td>\n",
              "    </tr>\n",
              "    <tr>\n",
              "      <th>25</th>\n",
              "      <td>Geology</td>\n",
              "      <td>$43,500.00</td>\n",
              "      <td>$79,500.00</td>\n",
              "      <td>82.8</td>\n",
              "      <td>$45,000.00</td>\n",
              "      <td>$59,600.00</td>\n",
              "      <td>$101,000.00</td>\n",
              "      <td>$156,000.00</td>\n",
              "    </tr>\n",
              "    <tr>\n",
              "      <th>26</th>\n",
              "      <td>Graphic Design</td>\n",
              "      <td>$35,700.00</td>\n",
              "      <td>$59,800.00</td>\n",
              "      <td>67.5</td>\n",
              "      <td>$36,000.00</td>\n",
              "      <td>$45,500.00</td>\n",
              "      <td>$80,800.00</td>\n",
              "      <td>$112,000.00</td>\n",
              "    </tr>\n",
              "    <tr>\n",
              "      <th>27</th>\n",
              "      <td>Health Care Administration</td>\n",
              "      <td>$38,800.00</td>\n",
              "      <td>$60,600.00</td>\n",
              "      <td>56.2</td>\n",
              "      <td>$34,600.00</td>\n",
              "      <td>$45,600.00</td>\n",
              "      <td>$78,800.00</td>\n",
              "      <td>$101,000.00</td>\n",
              "    </tr>\n",
              "    <tr>\n",
              "      <th>28</th>\n",
              "      <td>History</td>\n",
              "      <td>$39,200.00</td>\n",
              "      <td>$71,000.00</td>\n",
              "      <td>81.1</td>\n",
              "      <td>$37,000.00</td>\n",
              "      <td>$49,200.00</td>\n",
              "      <td>$103,000.00</td>\n",
              "      <td>$149,000.00</td>\n",
              "    </tr>\n",
              "    <tr>\n",
              "      <th>29</th>\n",
              "      <td>Hospitality &amp; Tourism</td>\n",
              "      <td>$37,800.00</td>\n",
              "      <td>$57,500.00</td>\n",
              "      <td>52.1</td>\n",
              "      <td>$35,500.00</td>\n",
              "      <td>$43,600.00</td>\n",
              "      <td>$81,900.00</td>\n",
              "      <td>$124,000.00</td>\n",
              "    </tr>\n",
              "    <tr>\n",
              "      <th>30</th>\n",
              "      <td>Industrial Engineering</td>\n",
              "      <td>$57,700.00</td>\n",
              "      <td>$94,700.00</td>\n",
              "      <td>64.1</td>\n",
              "      <td>$57,100.00</td>\n",
              "      <td>$72,300.00</td>\n",
              "      <td>$132,000.00</td>\n",
              "      <td>$173,000.00</td>\n",
              "    </tr>\n",
              "    <tr>\n",
              "      <th>31</th>\n",
              "      <td>Information Technology (IT)</td>\n",
              "      <td>$49,100.00</td>\n",
              "      <td>$74,800.00</td>\n",
              "      <td>52.3</td>\n",
              "      <td>$44,500.00</td>\n",
              "      <td>$56,700.00</td>\n",
              "      <td>$96,700.00</td>\n",
              "      <td>$129,000.00</td>\n",
              "    </tr>\n",
              "    <tr>\n",
              "      <th>32</th>\n",
              "      <td>Interior Design</td>\n",
              "      <td>$36,100.00</td>\n",
              "      <td>$53,200.00</td>\n",
              "      <td>47.4</td>\n",
              "      <td>$35,700.00</td>\n",
              "      <td>$42,600.00</td>\n",
              "      <td>$72,500.00</td>\n",
              "      <td>$107,000.00</td>\n",
              "    </tr>\n",
              "    <tr>\n",
              "      <th>33</th>\n",
              "      <td>International Relations</td>\n",
              "      <td>$40,900.00</td>\n",
              "      <td>$80,900.00</td>\n",
              "      <td>97.8</td>\n",
              "      <td>$38,200.00</td>\n",
              "      <td>$56,000.00</td>\n",
              "      <td>$111,000.00</td>\n",
              "      <td>$157,000.00</td>\n",
              "    </tr>\n",
              "    <tr>\n",
              "      <th>34</th>\n",
              "      <td>Journalism</td>\n",
              "      <td>$35,600.00</td>\n",
              "      <td>$66,700.00</td>\n",
              "      <td>87.4</td>\n",
              "      <td>$38,400.00</td>\n",
              "      <td>$48,300.00</td>\n",
              "      <td>$97,700.00</td>\n",
              "      <td>$145,000.00</td>\n",
              "    </tr>\n",
              "    <tr>\n",
              "      <th>35</th>\n",
              "      <td>Management Information Systems (MIS)</td>\n",
              "      <td>$49,200.00</td>\n",
              "      <td>$82,300.00</td>\n",
              "      <td>67.3</td>\n",
              "      <td>$45,300.00</td>\n",
              "      <td>$60,500.00</td>\n",
              "      <td>$108,000.00</td>\n",
              "      <td>$146,000.00</td>\n",
              "    </tr>\n",
              "    <tr>\n",
              "      <th>36</th>\n",
              "      <td>Marketing</td>\n",
              "      <td>$40,800.00</td>\n",
              "      <td>$79,600.00</td>\n",
              "      <td>95.1</td>\n",
              "      <td>$42,100.00</td>\n",
              "      <td>$55,600.00</td>\n",
              "      <td>$119,000.00</td>\n",
              "      <td>$175,000.00</td>\n",
              "    </tr>\n",
              "    <tr>\n",
              "      <th>37</th>\n",
              "      <td>Math</td>\n",
              "      <td>$45,400.00</td>\n",
              "      <td>$92,400.00</td>\n",
              "      <td>103.5</td>\n",
              "      <td>$45,200.00</td>\n",
              "      <td>$64,200.00</td>\n",
              "      <td>$128,000.00</td>\n",
              "      <td>$183,000.00</td>\n",
              "    </tr>\n",
              "    <tr>\n",
              "      <th>38</th>\n",
              "      <td>Mechanical Engineering</td>\n",
              "      <td>$57,900.00</td>\n",
              "      <td>$93,600.00</td>\n",
              "      <td>61.7</td>\n",
              "      <td>$63,700.00</td>\n",
              "      <td>$76,200.00</td>\n",
              "      <td>$120,000.00</td>\n",
              "      <td>$163,000.00</td>\n",
              "    </tr>\n",
              "    <tr>\n",
              "      <th>39</th>\n",
              "      <td>Music</td>\n",
              "      <td>$35,900.00</td>\n",
              "      <td>$55,000.00</td>\n",
              "      <td>53.2</td>\n",
              "      <td>$26,700.00</td>\n",
              "      <td>$40,200.00</td>\n",
              "      <td>$88,000.00</td>\n",
              "      <td>$134,000.00</td>\n",
              "    </tr>\n",
              "    <tr>\n",
              "      <th>40</th>\n",
              "      <td>Nursing</td>\n",
              "      <td>$54,200.00</td>\n",
              "      <td>$67,000.00</td>\n",
              "      <td>23.6</td>\n",
              "      <td>$47,600.00</td>\n",
              "      <td>$56,400.00</td>\n",
              "      <td>$80,900.00</td>\n",
              "      <td>$98,300.00</td>\n",
              "    </tr>\n",
              "    <tr>\n",
              "      <th>41</th>\n",
              "      <td>Nutrition</td>\n",
              "      <td>$39,900.00</td>\n",
              "      <td>$55,300.00</td>\n",
              "      <td>38.6</td>\n",
              "      <td>$33,900.00</td>\n",
              "      <td>$44,500.00</td>\n",
              "      <td>$70,500.00</td>\n",
              "      <td>$99,200.00</td>\n",
              "    </tr>\n",
              "    <tr>\n",
              "      <th>42</th>\n",
              "      <td>Philosophy</td>\n",
              "      <td>$39,900.00</td>\n",
              "      <td>$81,200.00</td>\n",
              "      <td>103.5</td>\n",
              "      <td>$35,500.00</td>\n",
              "      <td>$52,800.00</td>\n",
              "      <td>$127,000.00</td>\n",
              "      <td>$168,000.00</td>\n",
              "    </tr>\n",
              "    <tr>\n",
              "      <th>43</th>\n",
              "      <td>Physician Assistant</td>\n",
              "      <td>$74,300.00</td>\n",
              "      <td>$91,700.00</td>\n",
              "      <td>23.4</td>\n",
              "      <td>$66,400.00</td>\n",
              "      <td>$75,200.00</td>\n",
              "      <td>$108,000.00</td>\n",
              "      <td>$124,000.00</td>\n",
              "    </tr>\n",
              "    <tr>\n",
              "      <th>44</th>\n",
              "      <td>Physics</td>\n",
              "      <td>$50,300.00</td>\n",
              "      <td>$97,300.00</td>\n",
              "      <td>93.4</td>\n",
              "      <td>$56,000.00</td>\n",
              "      <td>$74,200.00</td>\n",
              "      <td>$132,000.00</td>\n",
              "      <td>$178,000.00</td>\n",
              "    </tr>\n",
              "    <tr>\n",
              "      <th>45</th>\n",
              "      <td>Political Science</td>\n",
              "      <td>$40,800.00</td>\n",
              "      <td>$78,200.00</td>\n",
              "      <td>91.7</td>\n",
              "      <td>$41,200.00</td>\n",
              "      <td>$55,300.00</td>\n",
              "      <td>$114,000.00</td>\n",
              "      <td>$168,000.00</td>\n",
              "    </tr>\n",
              "    <tr>\n",
              "      <th>46</th>\n",
              "      <td>Psychology</td>\n",
              "      <td>$35,900.00</td>\n",
              "      <td>$60,400.00</td>\n",
              "      <td>68.2</td>\n",
              "      <td>$31,600.00</td>\n",
              "      <td>$42,100.00</td>\n",
              "      <td>$87,500.00</td>\n",
              "      <td>$127,000.00</td>\n",
              "    </tr>\n",
              "    <tr>\n",
              "      <th>47</th>\n",
              "      <td>Religion</td>\n",
              "      <td>$34,100.00</td>\n",
              "      <td>$52,000.00</td>\n",
              "      <td>52.5</td>\n",
              "      <td>$29,700.00</td>\n",
              "      <td>$36,500.00</td>\n",
              "      <td>$70,900.00</td>\n",
              "      <td>$96,400.00</td>\n",
              "    </tr>\n",
              "    <tr>\n",
              "      <th>48</th>\n",
              "      <td>Sociology</td>\n",
              "      <td>$36,500.00</td>\n",
              "      <td>$58,200.00</td>\n",
              "      <td>59.5</td>\n",
              "      <td>$30,700.00</td>\n",
              "      <td>$40,400.00</td>\n",
              "      <td>$81,200.00</td>\n",
              "      <td>$118,000.00</td>\n",
              "    </tr>\n",
              "    <tr>\n",
              "      <th>49</th>\n",
              "      <td>Spanish</td>\n",
              "      <td>$34,000.00</td>\n",
              "      <td>$53,100.00</td>\n",
              "      <td>56.2</td>\n",
              "      <td>$31,000.00</td>\n",
              "      <td>$40,000.00</td>\n",
              "      <td>$76,800.00</td>\n",
              "      <td>$96,400.00</td>\n",
              "    </tr>\n",
              "  </tbody>\n",
              "</table>\n",
              "</div>"
            ],
            "text/plain": [
              "                     Undergraduate Major  ... Mid-Career 90th Percentile Salary\n",
              "0                             Accounting  ...                       $152,000.00\n",
              "1                  Aerospace Engineering  ...                       $161,000.00\n",
              "2                            Agriculture  ...                       $150,000.00\n",
              "3                           Anthropology  ...                       $138,000.00\n",
              "4                           Architecture  ...                       $136,000.00\n",
              "5                            Art History  ...                       $125,000.00\n",
              "6                                Biology  ...                       $135,000.00\n",
              "7                    Business Management  ...                       $147,000.00\n",
              "8                   Chemical Engineering  ...                       $194,000.00\n",
              "9                              Chemistry  ...                       $148,000.00\n",
              "10                     Civil Engineering  ...                       $148,000.00\n",
              "11                        Communications  ...                       $143,000.00\n",
              "12                  Computer Engineering  ...                       $162,000.00\n",
              "13                      Computer Science  ...                       $154,000.00\n",
              "14                          Construction  ...                       $171,000.00\n",
              "15                      Criminal Justice  ...                       $107,000.00\n",
              "16                                 Drama  ...                       $153,000.00\n",
              "17                             Economics  ...                       $210,000.00\n",
              "18                             Education  ...                       $102,000.00\n",
              "19                Electrical Engineering  ...                       $168,000.00\n",
              "20                               English  ...                       $133,000.00\n",
              "21                                  Film  ...                       $136,000.00\n",
              "22                               Finance  ...                       $195,000.00\n",
              "23                              Forestry  ...                       $111,000.00\n",
              "24                             Geography  ...                       $132,000.00\n",
              "25                               Geology  ...                       $156,000.00\n",
              "26                        Graphic Design  ...                       $112,000.00\n",
              "27            Health Care Administration  ...                       $101,000.00\n",
              "28                               History  ...                       $149,000.00\n",
              "29                 Hospitality & Tourism  ...                       $124,000.00\n",
              "30                Industrial Engineering  ...                       $173,000.00\n",
              "31           Information Technology (IT)  ...                       $129,000.00\n",
              "32                       Interior Design  ...                       $107,000.00\n",
              "33               International Relations  ...                       $157,000.00\n",
              "34                            Journalism  ...                       $145,000.00\n",
              "35  Management Information Systems (MIS)  ...                       $146,000.00\n",
              "36                             Marketing  ...                       $175,000.00\n",
              "37                                  Math  ...                       $183,000.00\n",
              "38                Mechanical Engineering  ...                       $163,000.00\n",
              "39                                 Music  ...                       $134,000.00\n",
              "40                               Nursing  ...                        $98,300.00\n",
              "41                             Nutrition  ...                        $99,200.00\n",
              "42                            Philosophy  ...                       $168,000.00\n",
              "43                   Physician Assistant  ...                       $124,000.00\n",
              "44                               Physics  ...                       $178,000.00\n",
              "45                     Political Science  ...                       $168,000.00\n",
              "46                            Psychology  ...                       $127,000.00\n",
              "47                              Religion  ...                        $96,400.00\n",
              "48                             Sociology  ...                       $118,000.00\n",
              "49                               Spanish  ...                        $96,400.00\n",
              "\n",
              "[50 rows x 8 columns]"
            ]
          },
          "metadata": {},
          "execution_count": 37
        }
      ]
    },
    {
      "cell_type": "markdown",
      "metadata": {
        "id": "7QJuN6mPiAy-"
      },
      "source": [
        "#**Cleaning Data**"
      ]
    },
    {
      "cell_type": "markdown",
      "metadata": {
        "id": "cKCiiectiOx3"
      },
      "source": [
        "Bad data could be:\n",
        "\n",
        "-> Empty cells\n",
        "-> Data in wrong format\n",
        "-> Wrong data\n",
        "-> Duplicates"
      ]
    },
    {
      "cell_type": "code",
      "metadata": {
        "colab": {
          "base_uri": "https://localhost:8080/"
        },
        "id": "qNqQBES0hJvC",
        "outputId": "ead1c2b8-d026-4728-a2fd-ee5fd0c155f3"
      },
      "source": [
        "df.info()"
      ],
      "execution_count": 38,
      "outputs": [
        {
          "output_type": "stream",
          "name": "stdout",
          "text": [
            "<class 'pandas.core.frame.DataFrame'>\n",
            "RangeIndex: 50 entries, 0 to 49\n",
            "Data columns (total 8 columns):\n",
            " #   Column                                             Non-Null Count  Dtype  \n",
            "---  ------                                             --------------  -----  \n",
            " 0   Undergraduate Major                                50 non-null     object \n",
            " 1   Starting Median Salary                             50 non-null     object \n",
            " 2   Mid-Career Median Salary                           50 non-null     object \n",
            " 3   Percent change from Starting to Mid-Career Salary  50 non-null     float64\n",
            " 4   Mid-Career 10th Percentile Salary                  50 non-null     object \n",
            " 5   Mid-Career 25th Percentile Salary                  50 non-null     object \n",
            " 6   Mid-Career 75th Percentile Salary                  50 non-null     object \n",
            " 7   Mid-Career 90th Percentile Salary                  50 non-null     object \n",
            "dtypes: float64(1), object(7)\n",
            "memory usage: 3.2+ KB\n"
          ]
        }
      ]
    },
    {
      "cell_type": "code",
      "metadata": {
        "id": "tU4jWQGYihZO"
      },
      "source": [
        "new_df = df.dropna(inplace=True)"
      ],
      "execution_count": 39,
      "outputs": []
    },
    {
      "cell_type": "code",
      "metadata": {
        "id": "83XXwYxnim19"
      },
      "source": [
        "df.fillna(100, inplace=True)"
      ],
      "execution_count": 40,
      "outputs": []
    },
    {
      "cell_type": "code",
      "metadata": {
        "colab": {
          "base_uri": "https://localhost:8080/"
        },
        "id": "XtUVBLyiixnV",
        "outputId": "fe85c65b-a4f1-4151-a65b-e7fdfa71479f"
      },
      "source": [
        "x = df['Percent change from Starting to Mid-Career Salary'].mean()\n",
        "x"
      ],
      "execution_count": 41,
      "outputs": [
        {
          "output_type": "execute_result",
          "data": {
            "text/plain": [
              "69.27399999999999"
            ]
          },
          "metadata": {},
          "execution_count": 41
        }
      ]
    },
    {
      "cell_type": "code",
      "metadata": {
        "id": "bhbKBiOojOpE"
      },
      "source": [
        "df.fillna(x,inplace=True)"
      ],
      "execution_count": 42,
      "outputs": []
    },
    {
      "cell_type": "code",
      "metadata": {
        "id": "jY42pxlJjbni"
      },
      "source": [
        "df.dropna(subset=['Percent change from Starting to Mid-Career Salary'], inplace = True)"
      ],
      "execution_count": 43,
      "outputs": []
    },
    {
      "cell_type": "code",
      "metadata": {
        "colab": {
          "base_uri": "https://localhost:8080/"
        },
        "id": "9Oe96BR0j9ZM",
        "outputId": "ac877afd-f695-4894-ff7a-91e8ee2a200e"
      },
      "source": [
        "for x in df.index:\n",
        "  if df['Percent change from Starting to Mid-Career Salary'].loc[x]>95:\n",
        "    df['Percent change from Starting to Mid-Career Salary'].loc[x]=96\n"
      ],
      "execution_count": 44,
      "outputs": [
        {
          "output_type": "stream",
          "name": "stderr",
          "text": [
            "/usr/local/lib/python3.7/dist-packages/pandas/core/indexing.py:670: SettingWithCopyWarning: \n",
            "A value is trying to be set on a copy of a slice from a DataFrame\n",
            "\n",
            "See the caveats in the documentation: https://pandas.pydata.org/pandas-docs/stable/user_guide/indexing.html#returning-a-view-versus-a-copy\n",
            "  iloc._setitem_with_indexer(indexer, value)\n"
          ]
        }
      ]
    },
    {
      "cell_type": "code",
      "metadata": {
        "id": "jGQS71i2mz8a"
      },
      "source": [
        "for x in df.index:\n",
        "    if df['Percent change from Starting to Mid-Career Salary'].loc[x]>95:\n",
        "      df.drop(x,inplace=True)"
      ],
      "execution_count": 46,
      "outputs": []
    },
    {
      "cell_type": "code",
      "metadata": {
        "colab": {
          "base_uri": "https://localhost:8080/"
        },
        "id": "v0z6OsyLnc2B",
        "outputId": "9bdc7e76-9713-47e8-c8af-9aca09369f59"
      },
      "source": [
        "df.duplicated()"
      ],
      "execution_count": 48,
      "outputs": [
        {
          "output_type": "execute_result",
          "data": {
            "text/plain": [
              "0     False\n",
              "1     False\n",
              "2     False\n",
              "3     False\n",
              "4     False\n",
              "5     False\n",
              "6     False\n",
              "7     False\n",
              "8     False\n",
              "9     False\n",
              "10    False\n",
              "11    False\n",
              "12    False\n",
              "13    False\n",
              "14    False\n",
              "15    False\n",
              "16    False\n",
              "18    False\n",
              "19    False\n",
              "20    False\n",
              "21    False\n",
              "22    False\n",
              "23    False\n",
              "24    False\n",
              "25    False\n",
              "26    False\n",
              "27    False\n",
              "28    False\n",
              "29    False\n",
              "30    False\n",
              "31    False\n",
              "32    False\n",
              "34    False\n",
              "35    False\n",
              "38    False\n",
              "39    False\n",
              "40    False\n",
              "41    False\n",
              "43    False\n",
              "44    False\n",
              "45    False\n",
              "46    False\n",
              "47    False\n",
              "48    False\n",
              "49    False\n",
              "dtype: bool"
            ]
          },
          "metadata": {},
          "execution_count": 48
        }
      ]
    },
    {
      "cell_type": "code",
      "metadata": {
        "id": "iLoW55wFnrHv"
      },
      "source": [
        "df.drop_duplicates(inplace=True)"
      ],
      "execution_count": 50,
      "outputs": []
    },
    {
      "cell_type": "code",
      "metadata": {
        "id": "ku6_FHDhntk0"
      },
      "source": [
        ""
      ],
      "execution_count": null,
      "outputs": []
    }
  ]
}